{
 "cells": [
  {
   "cell_type": "markdown",
   "id": "bae3e27f-12c7-4461-8031-1130db71e092",
   "metadata": {},
   "source": [
    "### import libraries"
   ]
  },
  {
   "cell_type": "code",
   "execution_count": null,
   "id": "36e0046b-b2b2-4568-ad72-adfa9dde3db7",
   "metadata": {},
   "outputs": [],
   "source": [
    "import tweepy\n",
    "import time\n",
    "import json\n",
    "import pandas as pd\n",
    "import os\n",
    "import shutil\n",
    "import requests\n",
    "import telegram"
   ]
  },
  {
   "cell_type": "markdown",
   "id": "d1da5d73-4850-4402-afb6-9f78bfa01ada",
   "metadata": {
    "tags": []
   },
   "source": [
    "### login in twitter"
   ]
  },
  {
   "cell_type": "code",
   "execution_count": null,
   "id": "0daecafc-3ad9-446e-99b5-c0b2e72a1122",
   "metadata": {},
   "outputs": [],
   "source": [
    "consumer_key = 'your_consumer_key'\n",
    "consumer_secret = 'your_consumer_secret'\n",
    "bearer_token = 'your_bearer_token'\n",
    "access_token = 'your_access_token'\n",
    "access_token_secret = 'your_access_token_secret'\n",
    "\n",
    "\n",
    "client_id = 'your_client_id'\n",
    "client_secret = 'your_client_secret'"
   ]
  },
  {
   "cell_type": "code",
   "execution_count": null,
   "id": "6036014a-c370-4e46-b8c8-5349d340e259",
   "metadata": {},
   "outputs": [],
   "source": [
    "auth = tweepy.OAuthHandler(consumer_key, consumer_secret)\n",
    "auth.set_access_token(access_token, access_token_secret)\n",
    "api = tweepy.API(auth, wait_on_rate_limit = True)"
   ]
  },
  {
   "cell_type": "markdown",
   "id": "1467b6e8-a51d-49df-ac16-8c68927b002f",
   "metadata": {
    "tags": []
   },
   "source": [
    "### Convert to json file"
   ]
  },
  {
   "cell_type": "code",
   "execution_count": null,
   "id": "614aade3-0e3d-4046-ad19-1ce4e923955f",
   "metadata": {},
   "outputs": [],
   "source": [
    "data = api.verify_credentials()\n",
    "data\n",
    "#json_data = json.dumps(data._json, indent = 4)\n",
    "#id_ultimo_tweet = data._json['status']['id']\n",
    "#print(id_ultimo_tweet)"
   ]
  },
  {
   "cell_type": "markdown",
   "id": "9fbe5862-8230-45b1-899a-55fa9deaff5c",
   "metadata": {},
   "source": [
    "### List mp4 files in folder on windows "
   ]
  },
  {
   "cell_type": "code",
   "execution_count": null,
   "id": "aad19efa-54c0-4a2d-a5df-2b659393a6c3",
   "metadata": {},
   "outputs": [],
   "source": [
    "#source_videos = 'D:/10.videos_thisischile/Ya publicados'\n",
    "source_videos = './'\n",
    "files = []\n",
    "\n",
    "for file in os.listdir(source_videos):\n",
    "    if file.endswith('.mp4'):\n",
    "        files.append(file)\n",
    "\n",
    "name_media = files[0]\n",
    "name_media"
   ]
  },
  {
   "cell_type": "markdown",
   "id": "e888d05a-7837-47fd-837a-f43c9f001fc8",
   "metadata": {},
   "source": [
    "### Upload video to twitter"
   ]
  },
  {
   "cell_type": "code",
   "execution_count": null,
   "id": "5336d9db-b99d-4c6e-bbca-d317156435cd",
   "metadata": {},
   "outputs": [],
   "source": [
    "data_vd = api.media_upload(source_videos+'/{}'.format(name_media),\n",
    "                           wait_for_async_finalize = True ,\n",
    "                           media_category= 'tweet_video')\n",
    "medias_id = data_vd.media_id\n",
    "tweet_text = name_media[:-4]+' #ThisIsChile'\n",
    "#print(data_vd)"
   ]
  },
  {
   "cell_type": "markdown",
   "id": "f2910321-454b-44f1-83a9-53348d31d5a0",
   "metadata": {},
   "source": [
    "### Publish in twitter with media uploaded"
   ]
  },
  {
   "cell_type": "code",
   "execution_count": null,
   "id": "ed19ea4b-64ee-4a3b-9fc8-310541a1a405",
   "metadata": {},
   "outputs": [],
   "source": [
    "api.update_status(tweet_text, media_ids=[medias_id])\n",
    "twitter_status = 'Ok'"
   ]
  },
  {
   "cell_type": "code",
   "execution_count": null,
   "id": "71305088-1462-4a69-84c6-b26d2ef66d04",
   "metadata": {},
   "outputs": [],
   "source": [
    "#api.update_status('hola bebes')"
   ]
  },
  {
   "cell_type": "markdown",
   "id": "2624e01b-f213-4819-812c-e953e3ea91ae",
   "metadata": {},
   "source": [
    "### put like on last status on twitter"
   ]
  },
  {
   "cell_type": "code",
   "execution_count": null,
   "id": "d3a4b1a5-7570-4dcc-92f2-887e81199109",
   "metadata": {},
   "outputs": [],
   "source": [
    "data = api.verify_credentials()\n",
    "json_data = json.dumps(data._json, indent = 4)\n",
    "last_post = data._json['status']['id']\n",
    "if data._json['status']['favorited'] == False:\n",
    "    api.create_favorite(last_post)"
   ]
  },
  {
   "cell_type": "markdown",
   "id": "66d2d276-ca2c-4ff8-aa86-73d64d0149c3",
   "metadata": {},
   "source": [
    "### Delete media file from folder"
   ]
  },
  {
   "cell_type": "code",
   "execution_count": null,
   "id": "3c81b1d9-c579-4e35-bbea-bba44b1501fe",
   "metadata": {},
   "outputs": [],
   "source": [
    "source_media = source_videos+'/{}'.format(name_media)\n",
    "destiny =source_videos+'/ya_public_twitter/{}'.format(name_media)\n",
    "\n",
    "shutil.copy(source_media, destiny)\n",
    "os.remove(source_media)"
   ]
  }
 ],
 "metadata": {
  "kernelspec": {
   "display_name": "Python 3 (ipykernel)",
   "language": "python",
   "name": "python3"
  },
  "language_info": {
   "codemirror_mode": {
    "name": "ipython",
    "version": 3
   },
   "file_extension": ".py",
   "mimetype": "text/x-python",
   "name": "python",
   "nbconvert_exporter": "python",
   "pygments_lexer": "ipython3",
   "version": "3.11.0"
  }
 },
 "nbformat": 4,
 "nbformat_minor": 5
}
